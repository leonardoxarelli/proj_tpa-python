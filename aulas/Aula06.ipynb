{
 "cells": [
  {
   "cell_type": "markdown",
   "metadata": {},
   "source": [
    "## Aula 06 - Introdução a Tuplas e Dicionários "
   ]
  },
  {
   "cell_type": "code",
   "execution_count": 1,
   "metadata": {},
   "outputs": [
    {
     "name": "stdout",
     "output_type": "stream",
     "text": [
      "[2, 5, 9]\n"
     ]
    }
   ],
   "source": [
    "lista = [2,5,9]\n",
    "lista[1]\n",
    "print(lista)"
   ]
  },
  {
   "cell_type": "markdown",
   "metadata": {},
   "source": [
    "## Introdução a Tuplas "
   ]
  },
  {
   "cell_type": "code",
   "execution_count": 10,
   "metadata": {},
   "outputs": [
    {
     "name": "stdout",
     "output_type": "stream",
     "text": [
      "(6, 8, 9)\n"
     ]
    }
   ],
   "source": [
    "tupla = (6,8,9)\n",
    "tupla[1]\n",
    "print(tupla)\n",
    "\n"
   ]
  },
  {
   "cell_type": "code",
   "execution_count": 3,
   "metadata": {},
   "outputs": [
    {
     "name": "stdout",
     "output_type": "stream",
     "text": [
      "[2, 5, 9, 7]\n"
     ]
    }
   ],
   "source": [
    "lista.append(7)\n",
    "print(lista)"
   ]
  },
  {
   "cell_type": "markdown",
   "metadata": {},
   "source": [
    "> tuplas são imutaveis "
   ]
  },
  {
   "cell_type": "markdown",
   "metadata": {},
   "source": [
    "# Introdução a Dicionários"
   ]
  },
  {
   "cell_type": "code",
   "execution_count": 13,
   "metadata": {},
   "outputs": [],
   "source": [
    "dicionario = {\n",
    "    'curso':'Desenvolvimento de Sistemas',\n",
    "    'ano': 2024,\n",
    "    'modulo':'Tecnicas de Programação e Algoritmos',\n",
    "    'professor':'Gustavo'\n",
    "}\n"
   ]
  },
  {
   "cell_type": "code",
   "execution_count": 22,
   "metadata": {},
   "outputs": [
    {
     "name": "stdout",
     "output_type": "stream",
     "text": [
      "Desenvolvimento de Sistemas\n",
      "2024\n",
      "Tecnicas de Programação e Algoritmos\n",
      "Gustavo\n"
     ]
    }
   ],
   "source": [
    "print(dicionario['curso'])\n",
    "print(dicionario['ano'])\n",
    "print(dicionario['modulo'])\n",
    "print(dicionario['professor'])"
   ]
  },
  {
   "cell_type": "code",
   "execution_count": 20,
   "metadata": {},
   "outputs": [
    {
     "name": "stdout",
     "output_type": "stream",
     "text": [
      "9.5\n"
     ]
    }
   ],
   "source": [
    "dicionario['nota'] = 9.5\n",
    "print (dicionario['nota'])"
   ]
  },
  {
   "cell_type": "code",
   "execution_count": 21,
   "metadata": {},
   "outputs": [
    {
     "name": "stdout",
     "output_type": "stream",
     "text": [
      "{'curso': 'Desenvolvimento de Sistemas', 'ano': 2024, 'modulo': 'Tecnicas de Programação e Algoritmos', 'professor': 'Gustavo', 'nota': 9.5}\n"
     ]
    }
   ],
   "source": [
    "print(dicionario)"
   ]
  },
  {
   "cell_type": "code",
   "execution_count": 24,
   "metadata": {},
   "outputs": [
    {
     "name": "stdout",
     "output_type": "stream",
     "text": [
      "curso\n",
      "ano\n",
      "modulo\n",
      "professor\n",
      "nota\n"
     ]
    }
   ],
   "source": [
    "for x in dicionario.keys():\n",
    "    print(x)\n",
    "    "
   ]
  },
  {
   "cell_type": "code",
   "execution_count": 25,
   "metadata": {},
   "outputs": [
    {
     "name": "stdout",
     "output_type": "stream",
     "text": [
      "dict_keys(['curso', 'ano', 'modulo', 'professor', 'nota'])\n",
      "dict_values(['Desenvolvimento de Sistemas', 2024, 'Tecnicas de Programação e Algoritmos', 'Gustavo', 9.5])\n"
     ]
    }
   ],
   "source": [
    "print(dicionario.keys())\n",
    "print(dicionario.values())\n"
   ]
  },
  {
   "cell_type": "code",
   "execution_count": 26,
   "metadata": {},
   "outputs": [
    {
     "ename": "KeyError",
     "evalue": "0",
     "output_type": "error",
     "traceback": [
      "\u001b[1;31m---------------------------------------------------------------------------\u001b[0m",
      "\u001b[1;31mKeyError\u001b[0m                                  Traceback (most recent call last)",
      "Cell \u001b[1;32mIn[26], line 1\u001b[0m\n\u001b[1;32m----> 1\u001b[0m \u001b[38;5;28mprint\u001b[39m(\u001b[43mdicionario\u001b[49m\u001b[43m[\u001b[49m\u001b[38;5;241;43m0\u001b[39;49m\u001b[43m]\u001b[49m)\n",
      "\u001b[1;31mKeyError\u001b[0m: 0"
     ]
    }
   ],
   "source": [
    "print(dicionario[0])\n"
   ]
  },
  {
   "cell_type": "code",
   "execution_count": 27,
   "metadata": {},
   "outputs": [
    {
     "name": "stdout",
     "output_type": "stream",
     "text": [
      "{}\n"
     ]
    }
   ],
   "source": [
    "dicionario.clear()\n",
    "print(dicionario)"
   ]
  },
  {
   "cell_type": "markdown",
   "metadata": {},
   "source": [
    "## Exercícios 1"
   ]
  },
  {
   "cell_type": "code",
   "execution_count": 39,
   "metadata": {},
   "outputs": [
    {
     "name": "stdout",
     "output_type": "stream",
     "text": [
      "{'código': '0002340867', 'data_inscrição': '07/02/2024', 'curso': 'Análise e Desenvolvimento de Sistemas'}\n",
      "{'registro': '99874564', 'nome': 'Samuel'}\n",
      "{'registro': '99874564', 'nome': 'Desenvolvimento de Sistemas', 'professor': 'Gustavo'}\n"
     ]
    }
   ],
   "source": [
    "matricula = {\n",
    "    'código':'0002340867',\n",
    "    'data_inscrição': '07/02/2024',\n",
    "    'curso':'Análise e Desenvolvimento de Sistemas',\n",
    "}\n",
    "aluno = {\n",
    "    'registro':'99874564',\n",
    "    'nome': 'Samuel',\n",
    "}\n",
    "diciplina = {\n",
    "    'registro':'99874564',\n",
    "    'nome': 'Desenvolvimento de Sistemas',\n",
    "    'professor': 'Gustavo',\n",
    "}\n",
    "escola = (matricula, aluno, diciplina)\n",
    "for x in escola:\n",
    "    print(x)\n",
    "\n",
    "\n"
   ]
  },
  {
   "cell_type": "markdown",
   "metadata": {},
   "source": [
    "## Exercício 2 \n",
    "> Crie três dicionarios para as seguintes tabelas:\n",
    "vendedor, poduto e venda. O vendedor terá registro, nome e admissão; o produto terá o ID, nome, fabricante; A venda terá reg_vendedor, id_produto e valor. Após a criação dos dicionários, adicionem a uma tupla chamada casa_baiano."
   ]
  },
  {
   "cell_type": "code",
   "execution_count": 46,
   "metadata": {},
   "outputs": [
    {
     "name": "stdout",
     "output_type": "stream",
     "text": [
      "{'registro': 2810, 'Nome': 'Thomas', 'Admissão': '07/02/2024'}\n",
      "{'ID': '99874564', 'Nome': 'Whey protein 100% Morango', 'Fabricante': 'Gowth'}\n",
      "{'reg_vendedor': '99874564', 'id_produto': '11049054432', 'Valor': 'R$99,90'}\n"
     ]
    }
   ],
   "source": [
    "Vendedor = {\n",
    "    'registro':2810,\n",
    "    'Nome':'Thomas',\n",
    "    'Admissão': '07/02/2024',\n",
    "    }\n",
    "Produto = {\n",
    "    'ID':'99874564',\n",
    "    'Nome': 'Whey protein 100% Morango',\n",
    "    'Fabricante':'Gowth'\n",
    "}\n",
    "Venda = {\n",
    "    'reg_vendedor':'99874564',\n",
    "    'id_produto': '11049054432',\n",
    "    'Valor': 'R$99,90',\n",
    "}\n",
    "Casas_baiano = (Vendedor, Produto, Venda)\n",
    "for x in Casas_baiano:\n",
    "    print(x)"
   ]
  }
 ],
 "metadata": {
  "kernelspec": {
   "display_name": "Python 3",
   "language": "python",
   "name": "python3"
  },
  "language_info": {
   "codemirror_mode": {
    "name": "ipython",
    "version": 3
   },
   "file_extension": ".py",
   "mimetype": "text/x-python",
   "name": "python",
   "nbconvert_exporter": "python",
   "pygments_lexer": "ipython3",
   "version": "3.12.2"
  }
 },
 "nbformat": 4,
 "nbformat_minor": 2
}
