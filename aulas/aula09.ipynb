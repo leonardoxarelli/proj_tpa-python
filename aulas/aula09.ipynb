{
 "cells": [
  {
   "cell_type": "markdown",
   "metadata": {},
   "source": [
    "## Introdução a Tabelas Hash"
   ]
  },
  {
   "cell_type": "markdown",
   "metadata": {},
   "source": [
    "> As Tabelas Hash são estruturas de dados comum para a localização de grandes quantidades de dados. Devido sua eficiência na busca, inserção e remoção de elementos utiliza a indexação dos dados como nos dicionarios ja vistos em aula."
   ]
  },
  {
   "cell_type": "markdown",
   "metadata": {},
   "source": [
    "Aplicações: \n",
    "   1. Banco de Dados\n",
    "   2. Cache de memória\n",
    "   3. Compiladores\n",
    "   4. Algoritmos de buscas\n",
    "   5. Big data\n"
   ]
  },
  {
   "cell_type": "code",
   "execution_count": 60,
   "metadata": {},
   "outputs": [
    {
     "ename": "TypeError",
     "evalue": "unsupported operand type(s) for %: 'int' and 'list'",
     "output_type": "error",
     "traceback": [
      "\u001b[1;31m---------------------------------------------------------------------------\u001b[0m",
      "\u001b[1;31mTypeError\u001b[0m                                 Traceback (most recent call last)",
      "Cell \u001b[1;32mIn[60], line 36\u001b[0m\n\u001b[0;32m     34\u001b[0m \u001b[38;5;28;01mif\u001b[39;00m \u001b[38;5;18m__name__\u001b[39m \u001b[38;5;241m==\u001b[39m \u001b[38;5;124m\"\u001b[39m\u001b[38;5;124m__main__\u001b[39m\u001b[38;5;124m\"\u001b[39m:\n\u001b[0;32m     35\u001b[0m     biblioteca \u001b[38;5;241m=\u001b[39m HashTable()\n\u001b[1;32m---> 36\u001b[0m     \u001b[43mbiblioteca\u001b[49m\u001b[38;5;241;43m.\u001b[39;49m\u001b[43minsert\u001b[49m\u001b[43m(\u001b[49m\u001b[38;5;124;43m\"\u001b[39;49m\u001b[38;5;124;43mA\u001b[39;49m\u001b[38;5;124;43m\"\u001b[39;49m\u001b[43m,\u001b[49m\u001b[38;5;124;43m\"\u001b[39;49m\u001b[38;5;124;43mAlice no País das Maravilhas\u001b[39;49m\u001b[38;5;124;43m\"\u001b[39;49m\u001b[43m)\u001b[49m\n\u001b[0;32m     37\u001b[0m     biblioteca\u001b[38;5;241m.\u001b[39minsert(\u001b[38;5;124m\"\u001b[39m\u001b[38;5;124mM\u001b[39m\u001b[38;5;124m\"\u001b[39m,\u001b[38;5;124m\"\u001b[39m\u001b[38;5;124mMarcelino Pão e Vinho\u001b[39m\u001b[38;5;124m\"\u001b[39m)\n\u001b[0;32m     38\u001b[0m     biblioteca\u001b[38;5;241m.\u001b[39minsert(\u001b[38;5;124m\"\u001b[39m\u001b[38;5;124mO\u001b[39m\u001b[38;5;124m\"\u001b[39m,\u001b[38;5;124m\"\u001b[39m\u001b[38;5;124mO código de Da Vince\u001b[39m\u001b[38;5;124m\"\u001b[39m)\n",
      "Cell \u001b[1;32mIn[60], line 11\u001b[0m, in \u001b[0;36mHashTable.insert\u001b[1;34m(self, key, value)\u001b[0m\n\u001b[0;32m     10\u001b[0m \u001b[38;5;28;01mdef\u001b[39;00m \u001b[38;5;21minsert\u001b[39m(\u001b[38;5;28mself\u001b[39m, key, value):\n\u001b[1;32m---> 11\u001b[0m    index \u001b[38;5;241m=\u001b[39m \u001b[38;5;28;43mself\u001b[39;49m\u001b[38;5;241;43m.\u001b[39;49m\u001b[43mhash\u001b[49m\u001b[43m(\u001b[49m\u001b[43mkey\u001b[49m\u001b[43m)\u001b[49m\n\u001b[0;32m     12\u001b[0m    \u001b[38;5;28;01mfor\u001b[39;00m y \u001b[38;5;129;01min\u001b[39;00m \u001b[38;5;28mself\u001b[39m\u001b[38;5;241m.\u001b[39mtable[index]:\n\u001b[0;32m     13\u001b[0m       \u001b[38;5;28;01mif\u001b[39;00m y[\u001b[38;5;241m0\u001b[39m] \u001b[38;5;241m==\u001b[39mkey:\n",
      "Cell \u001b[1;32mIn[60], line 8\u001b[0m, in \u001b[0;36mHashTable.hash\u001b[1;34m(self, key)\u001b[0m\n\u001b[0;32m      7\u001b[0m \u001b[38;5;28;01mdef\u001b[39;00m \u001b[38;5;21mhash\u001b[39m(\u001b[38;5;28mself\u001b[39m, key):\n\u001b[1;32m----> 8\u001b[0m    \u001b[38;5;28;01mreturn\u001b[39;00m \u001b[38;5;28;43mhash\u001b[39;49m\u001b[43m(\u001b[49m\u001b[43mkey\u001b[49m\u001b[43m)\u001b[49m\u001b[43m \u001b[49m\u001b[38;5;241;43m%\u001b[39;49m\u001b[43m \u001b[49m\u001b[38;5;28;43mself\u001b[39;49m\u001b[38;5;241;43m.\u001b[39;49m\u001b[43msize\u001b[49m\n",
      "\u001b[1;31mTypeError\u001b[0m: unsupported operand type(s) for %: 'int' and 'list'"
     ]
    }
   ],
   "source": [
    "class HashTable:\n",
    "    # Construtor da tabela Hash\n",
    "    def __init__(self, size = 10):\n",
    "      self.size = size;\n",
    "      self.size = [[] for _ in range(self.size)]\n",
    "    # Metodo que calcula o indice da tabela através da chave\n",
    "    def hash(self, key):\n",
    "       return hash(key) % self.size\n",
    "    # Metodo que insere um valor através da sua chave \n",
    "    def insert(self, key, value):\n",
    "       index = self.hash(key)\n",
    "       for y in self.table[index]:\n",
    "          if y[0] ==key:\n",
    "             y[1] = value\n",
    "             return\n",
    "          self.table[index].append([key, value])\n",
    "\n",
    "    # Metedo que remove valor através da sua chave\n",
    "    def remove(self, key):\n",
    "       index = self.hash(key)\n",
    "       for i, y in enumerate(self.table[index]):\n",
    "        if y[0] == key:\n",
    "             del self.table[index[i]]\n",
    "             return True\n",
    "        return False\n",
    "    # Método de busca o valor através da sua chave           \n",
    "    def get(self, key):\n",
    "       index = self.hash(key)\n",
    "       for y in self.table[index]:\n",
    "          if y[0] == key:\n",
    "             return y[1]\n",
    "          return None\n",
    "\n",
    "if __name__ == \"__main__\":\n",
    "    biblioteca = HashTable()\n",
    "    biblioteca.insert(\"A\",\"Alice no País das Maravilhas\")\n",
    "    biblioteca.insert(\"M\",\"Marcelino Pão e Vinho\")\n",
    "    biblioteca.insert(\"O\",\"O código de Da Vince\")\n",
    "\n",
    "    print(biblioteca.get(\"A\"))\n",
    "    print(biblioteca.get(\"B\"))\n",
    "\n",
    "    biblioteca.remove(\"A\")\n",
    "    print(biblioteca.get(\"A\"))\n",
    "\n",
    "\n",
    "       \n",
    "    \n",
    "\n",
    "\n",
    "           \n",
    "\n"
   ]
  },
  {
   "cell_type": "markdown",
   "metadata": {},
   "source": [
    "## Exercicio \n",
    "> Crie uma pratilheira de mercado onde será organizado os produtos por numeração e o nome onde:\n"
   ]
  },
  {
   "cell_type": "markdown",
   "metadata": {},
   "source": [
    "0. Frios\n",
    "1. Limpeza \n",
    "2. Vegetais \n",
    "3. Cereais \n",
    "4. Bebidas\n",
    "5. Padaria \n",
    "6. Laticínios \n",
    "7. Açougue \n",
    "8. Hortaliças \n",
    "9. Bebidas Alcólicas \n",
    "\n",
    ">Aplique um tabela Hash para criar o mercadinho"
   ]
  },
  {
   "cell_type": "code",
   "execution_count": 57,
   "metadata": {},
   "outputs": [
    {
     "ename": "TypeError",
     "evalue": "expected 0 arguments, got 1",
     "output_type": "error",
     "traceback": [
      "\u001b[1;31m---------------------------------------------------------------------------\u001b[0m",
      "\u001b[1;31mTypeError\u001b[0m                                 Traceback (most recent call last)",
      "Cell \u001b[1;32mIn[57], line 36\u001b[0m\n\u001b[0;32m     34\u001b[0m \u001b[38;5;28;01mif\u001b[39;00m \u001b[38;5;18m__name__\u001b[39m \u001b[38;5;241m==\u001b[39m \u001b[38;5;124m\"\u001b[39m\u001b[38;5;124m__main__\u001b[39m\u001b[38;5;124m\"\u001b[39m:\n\u001b[0;32m     35\u001b[0m     biblioteca \u001b[38;5;241m=\u001b[39m HashTable()\n\u001b[1;32m---> 36\u001b[0m     \u001b[43mbiblioteca\u001b[49m\u001b[38;5;241;43m.\u001b[39;49m\u001b[43minsert\u001b[49m\u001b[43m(\u001b[49m\u001b[38;5;124;43m\"\u001b[39;49m\u001b[38;5;124;43m0\u001b[39;49m\u001b[38;5;124;43m\"\u001b[39;49m\u001b[43m,\u001b[49m\u001b[38;5;124;43m\"\u001b[39;49m\u001b[38;5;124;43mFrios\u001b[39;49m\u001b[38;5;124;43m\"\u001b[39;49m\u001b[43m)\u001b[49m\n\u001b[0;32m     37\u001b[0m     biblioteca\u001b[38;5;241m.\u001b[39minsert(\u001b[38;5;124m\"\u001b[39m\u001b[38;5;124m1\u001b[39m\u001b[38;5;124m\"\u001b[39m,\u001b[38;5;124m\"\u001b[39m\u001b[38;5;124mLimpeza\u001b[39m\u001b[38;5;124m\"\u001b[39m)\n\u001b[0;32m     38\u001b[0m     biblioteca\u001b[38;5;241m.\u001b[39minsert(\u001b[38;5;124m\"\u001b[39m\u001b[38;5;124m2\u001b[39m\u001b[38;5;124m\"\u001b[39m,\u001b[38;5;124m\"\u001b[39m\u001b[38;5;124mVegetais\u001b[39m\u001b[38;5;124m\"\u001b[39m)\n",
      "Cell \u001b[1;32mIn[36], line 11\u001b[0m, in \u001b[0;36mHashTable.insert\u001b[1;34m(self, key, value)\u001b[0m\n\u001b[0;32m     10\u001b[0m \u001b[38;5;28;01mdef\u001b[39;00m \u001b[38;5;21minsert\u001b[39m(\u001b[38;5;28mself\u001b[39m, key, value):\n\u001b[1;32m---> 11\u001b[0m    index \u001b[38;5;241m=\u001b[39m \u001b[38;5;28;43mself\u001b[39;49m\u001b[38;5;241;43m.\u001b[39;49m\u001b[38;5;21;43m__hash__\u001b[39;49m\u001b[43m(\u001b[49m\u001b[43mkey\u001b[49m\u001b[43m)\u001b[49m\n\u001b[0;32m     12\u001b[0m    \u001b[38;5;28;01mfor\u001b[39;00m y \u001b[38;5;129;01min\u001b[39;00m \u001b[38;5;28mself\u001b[39m\u001b[38;5;241m.\u001b[39mtable[index]:\n\u001b[0;32m     13\u001b[0m       \u001b[38;5;28;01mif\u001b[39;00m y[\u001b[38;5;241m0\u001b[39m] \u001b[38;5;241m==\u001b[39mkey:\n",
      "\u001b[1;31mTypeError\u001b[0m: expected 0 arguments, got 1"
     ]
    }
   ],
   "source": [
    "class hashTable:\n",
    "    # Construtor da tabela Hash\n",
    "    def __init__(self, size = 10):\n",
    "      self.size = size;\n",
    "      self.size = [[] for _ in range(self.size)]\n",
    "    # Metodo que calcula o indice da tabela através da chave\n",
    "    def hash(self, key):\n",
    "       return hash(key) % self.size\n",
    "    # Metodo que insere um valor através da sua chave \n",
    "    def insert(self, key, value):\n",
    "       index = self.hash(key)\n",
    "       for y in self.table[index]:\n",
    "          if y[0] == key:\n",
    "             y[1] = value\n",
    "             return\n",
    "          self.table[index].append([key, value])\n",
    "\n",
    "    # Metedo que remove valor através da sua chave\n",
    "    def remove(self, key):\n",
    "       index = self.hash(key)\n",
    "       for i, y in enumerate(self.table[index]):\n",
    "        if y[0] == key:\n",
    "             del self.table[index[i]]\n",
    "             return True\n",
    "        return False\n",
    "    # Método de busca o valor através da sua chave           \n",
    "    def get(self, key):\n",
    "       index = self.hash(key)\n",
    "       for y in self.table[index]:\n",
    "          if y[0] == key:\n",
    "             return y[1]\n",
    "          return None\n",
    "\n",
    "if __name__ == \"__main__\":\n",
    "    biblioteca = HashTable()\n",
    "    biblioteca.insert(\"0\",\"Frios\")\n",
    "    biblioteca.insert(\"1\",\"Limpeza\")\n",
    "    biblioteca.insert(\"2\",\"Vegetais\")\n",
    "    biblioteca.insert(\"3\",\"Cereais\")\n",
    "    biblioteca.insert(\"4\",\"Bebidas\")\n",
    "    biblioteca.insert(\"5\",\"Padaria\")\n",
    "    biblioteca.insert(\"6\",\"Laticínios\")\n",
    "    biblioteca.insert(\"7\",\"Açougue\")\n",
    "    biblioteca.insert(\"8\",\"Hortaliças\")\n",
    "    biblioteca.insert(\"9\",\"Bebidas Alcoólicas\")\n",
    "\n",
    "\n",
    "\n",
    "\n",
    "    print(biblioteca.get(\"0\"))\n",
    "    print(biblioteca.get(\"1\"))\n",
    "    print(biblioteca.get(\"2\"))\n",
    "    print(biblioteca.get(\"3\"))\n",
    "    print(biblioteca.get(\"4\"))\n",
    "    print(biblioteca.get(\"5\"))\n",
    "    print(biblioteca.get(\"6\"))\n",
    "    print(biblioteca.get(\"7\"))\n",
    "    print(biblioteca.get(\"8\"))\n",
    "    print(biblioteca.get(\"9\"))\n",
    "   \n",
    "    biblioteca.remove(\"0\")\n",
    "    print(biblioteca.get(\"0\"))\n",
    "    biblioteca.remove(\"1\")\n",
    "    print(biblioteca.get(\"1\"))\n",
    "    biblioteca.remove(\"2\")\n",
    "    print(biblioteca.get(\"2\"))\n",
    "    biblioteca.remove(\"3\")\n",
    "    print(biblioteca.get(\"3\"))\n",
    "    biblioteca.remove(\"4\")\n",
    "    print(biblioteca.get(\"4\"))\n",
    "    biblioteca.remove(\"5\")\n",
    "    print(biblioteca.get(\"5\"))\n",
    "    biblioteca.remove(\"6\")\n",
    "    print(biblioteca.get(\"6\"))\n",
    "    biblioteca.remove(\"7\")\n",
    "    print(biblioteca.get(\"7\"))\n",
    "    biblioteca.remove(\"8\")\n",
    "    print(biblioteca.get(\"8\"))\n",
    "    biblioteca.remove(\"9\")\n",
    "    print(biblioteca.get(\"9\"))\n",
    " "
   ]
  }
 ],
 "metadata": {
  "kernelspec": {
   "display_name": "Python 3",
   "language": "python",
   "name": "python3"
  },
  "language_info": {
   "codemirror_mode": {
    "name": "ipython",
    "version": 3
   },
   "file_extension": ".py",
   "mimetype": "text/x-python",
   "name": "python",
   "nbconvert_exporter": "python",
   "pygments_lexer": "ipython3",
   "version": "3.12.2"
  }
 },
 "nbformat": 4,
 "nbformat_minor": 2
}
