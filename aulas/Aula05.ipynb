{
 "cells": [
  {
   "cell_type": "markdown",
   "metadata": {},
   "source": [
    "# Aula 05 - Introdução ao List Comprehsion e Format  "
   ]
  },
  {
   "cell_type": "markdown",
   "metadata": {},
   "source": [
    "> Nessa aula iremos dar introdução ao list comprehensions, uma forma mais simples de realizar conversões de valores entre duas ou mais listas. Atualmente é uma das formas mais simples de aplicar conversões, substituindo as declarações mais extensas do que o metodo conversional, lambda e o map."
   ]
  },
  {
   "cell_type": "markdown",
   "metadata": {},
   "source": [
    "## Exemplo 1 - Conversão de Celsius para Fahrenheit"
   ]
  },
  {
   "cell_type": "code",
   "execution_count": 2,
   "metadata": {},
   "outputs": [
    {
     "name": "stdout",
     "output_type": "stream",
     "text": [
      "[50.0, 68.0, 75.2, 95.0, 122.0]\n"
     ]
    }
   ],
   "source": [
    "celsius = [10,20,24,35,50]\n",
    "fahrenheit = [round(x*1.8+32,2) for x in celsius]\n",
    "print (fahrenheit)"
   ]
  },
  {
   "cell_type": "markdown",
   "metadata": {},
   "source": [
    "## Exemplo 2 - Conversão Kmh para Mph"
   ]
  },
  {
   "cell_type": "code",
   "execution_count": 14,
   "metadata": {},
   "outputs": [
    {
     "name": "stdout",
     "output_type": "stream",
     "text": [
      "[6.21, 12.42, 14.91, 21.74, 31.06]\n"
     ]
    }
   ],
   "source": [
    "Kmh = [10,20,24,35,50]\n",
    "Mph = [round(x/1.61,2) for x in Kmh]\n",
    "print (Mph)"
   ]
  },
  {
   "cell_type": "code",
   "execution_count": 24,
   "metadata": {},
   "outputs": [
    {
     "name": "stdout",
     "output_type": "stream",
     "text": [
      "Kmh    Mph   \n",
      "-------------\n",
      "10     6.21  \n",
      "20     12.42 \n",
      "24     14.91 \n",
      "35     21.74 \n",
      "50     31.06 \n"
     ]
    }
   ],
   "source": [
    "print(\"{:<6} {:<6}\".format(\"Kmh\",\"Mph\"))\n",
    "print(\"-------------\")\n",
    "x = 0\n",
    "while(x<len(Kmh)):\n",
    "    print(\"{:<6} {:<6}\".format(Kmh[x],Mph[x]))\n",
    "    x +=1"
   ]
  },
  {
   "cell_type": "markdown",
   "metadata": {},
   "source": [
    "## Tabela de Celsius para Fahrenheit"
   ]
  },
  {
   "cell_type": "code",
   "execution_count": 25,
   "metadata": {},
   "outputs": [
    {
     "name": "stdout",
     "output_type": "stream",
     "text": [
      "[50.0, 68.0, 75.2, 95.0, 122.0]\n"
     ]
    }
   ],
   "source": [
    "celsius = [10,20,24,35,50]\n",
    "fahrenheit = [round(x*1.8+32,2) for x in celsius]\n",
    "print (fahrenheit)"
   ]
  },
  {
   "cell_type": "code",
   "execution_count": 56,
   "metadata": {},
   "outputs": [
    {
     "name": "stdout",
     "output_type": "stream",
     "text": [
      "Celcius  Fahrenheit\n",
      "-------------------\n",
      "10       50.0  \n",
      "20       68.0  \n",
      "24       75.2  \n",
      "35       95.0  \n",
      "50       122.0 \n"
     ]
    }
   ],
   "source": [
    "print(\"{:<8} {:<6}\".format(\"Celcius\",\"Fahrenheit\"))\n",
    "print(\"-------------------\")\n",
    "x = 0\n",
    "while(x<len(celsius)):\n",
    "    print(\"{:<8} {:<6}\".format(celsius[x],fahrenheit[x]))\n",
    "    x +=1"
   ]
  },
  {
   "cell_type": "markdown",
   "metadata": {},
   "source": [
    "## Exercício 1"
   ]
  },
  {
   "cell_type": "markdown",
   "metadata": {},
   "source": [
    "> Crie uma lista com 10 valores em metros. Crie uma tabela de conversão para polegadas, pés, jardas e mílhas marítimas. Listando o número da linha e o cabeçalho da tabela."
   ]
  },
  {
   "cell_type": "code",
   "execution_count": 114,
   "metadata": {},
   "outputs": [
    {
     "name": "stdout",
     "output_type": "stream",
     "text": [
      "N            Metros       Polegadas    Pés          Jardas       Milhas Marítimas\n",
      "---------------------------------------------------------------------------------\n",
      "0            10           393.7        32.81        10.94        0.01        \n",
      "1            20           787.4        65.62        21.88        0.01        \n",
      "2            24           944.88       78.74        26.26        0.01        \n",
      "3            35           1377.95      114.84       38.29        0.02        \n",
      "4            50           1968.5       164.05       54.7         0.03        \n",
      "5            60           2362.2       196.86       65.64        0.03        \n",
      "6            76           2992.12      249.36       83.14        0.04        \n",
      "7            80           3149.6       262.48       87.52        0.04        \n",
      "8            99           3897.63      324.82       108.31       0.05        \n",
      "9            120          4724.4       393.72       131.28       0.06        \n"
     ]
    }
   ],
   "source": [
    "mt = [10,20,24,35,50,60,76,80,99,120]\n",
    "mt.sort()\n",
    "plg = [round(x*39.37,2) for x in mt]\n",
    "pes = [round(x*3.281,2) for x in mt]\n",
    "jardas = [round(x*1.094,2) for x in mt]\n",
    "mma = [round(x/1852,2) for x in mt]\n",
    "print(\"{:<12} {:<12} {:<12} {:<12} {:<12} {:<12}\".format(\"N\",\"Metros\",\"Polegadas\",\"Pés\",\"Jardas\",\"Milhas Marítimas\"))\n",
    "print(\"---------------------------------------------------------------------------------\")\n",
    "for v in range(0,len(mt),1):\n",
    "    print(\"{:<12} {:<12} {:<12} {:<12} {:<12} {:<12}\".format(v,mt[v],plg[v],pes[v],jardas[v],mma[v]))\n"
   ]
  },
  {
   "cell_type": "markdown",
   "metadata": {},
   "source": [
    "## Exercício 2 \n",
    "> Crie uma lista com 10 valores em Kelvin. Crie uma tabela de conversão para Celsius e Fahrenheit. Listando o número da linha e o cabeçalho da tabela."
   ]
  },
  {
   "cell_type": "code",
   "execution_count": 110,
   "metadata": {},
   "outputs": [
    {
     "name": "stdout",
     "output_type": "stream",
     "text": [
      "N            Kelvin       Celcius      Fahrenheit  \n",
      "-------------------------------------------------\n",
      "0            10           -263.15      -441.47     \n",
      "1            20           -253.15      -423.47     \n",
      "2            24           -249.15      -416.27     \n",
      "3            35           -238.15      -396.47     \n",
      "4            50           -223.15      -369.47     \n",
      "5            60           -213.15      -351.47     \n",
      "6            76           -197.15      -322.67     \n",
      "7            80           -193.15      -315.47     \n",
      "8            99           -174.15      -281.27     \n",
      "9            120          -153.15      -243.47     \n"
     ]
    }
   ],
   "source": [
    "kelvin = [10,20,24,35,50,60,76,80,99,120]\n",
    "kelvin.sort\n",
    "celcius = [round((x-273.15),2) for x in kelvin]\n",
    "fahrenheit = [round((x-273.15)*9/5 + 32.2,2) for x in kelvin]\n",
    "print(\"{:<12} {:<12} {:<12} {:<12}\".format(\"N\",\"Kelvin\",\"Celcius\",\"Fahrenheit\"))\n",
    "print(\"-------------------------------------------------\")\n",
    "for v in range(0,len(kelvin),1):\n",
    "    print(\"{:<12} {:<12} {:<12} {:<12}\".format(v,kelvin[v],celcius[v],fahrenheit[v]))\n"
   ]
  },
  {
   "cell_type": "markdown",
   "metadata": {},
   "source": [
    "## Exercício 3 \n",
    "> Crie um uma lista com 10 pesos em kilos. Faça a conversão do peso na Terra, Lua, Jupter, Saturno e Mercurio.Monte uma tabela conforme os exercícios passados\n"
   ]
  },
  {
   "cell_type": "code",
   "execution_count": 5,
   "metadata": {},
   "outputs": [
    {
     "name": "stdout",
     "output_type": "stream",
     "text": [
      "N            Terra        Lua          Jupiter      Saturno      Mercurio    \n",
      "---------------------------------------------------------------------------------\n",
      "0            10           1.7          23.4         10.6         3.8         \n",
      "1            20           3.4          46.8         21.2         7.6         \n",
      "2            24           4.08         56.16        25.44        9.12        \n",
      "3            35           5.95         81.9         37.1         13.3        \n",
      "4            50           8.5          117.0        53.0         19.0        \n",
      "5            60           10.2         140.4        63.6         22.8        \n",
      "6            76           12.92        177.84       80.56        28.88       \n",
      "7            80           13.6         187.2        84.8         30.4        \n",
      "8            99           16.83        231.66       104.94       37.62       \n",
      "9            120          20.4         280.8        127.2        45.6        \n"
     ]
    }
   ],
   "source": [
    "peso = [10,20,24,35,50,60,76,80,99,120]\n",
    "peso.sort()\n",
    "tr = [round(x*1,2) for x in peso]\n",
    "la = [round(x*0.17,2) for x in peso]\n",
    "jp = [round(x*2.34,2) for x in peso]\n",
    "sat = [round(x*1.06,2) for x in peso]\n",
    "mec = [round(x*0.38,2) for x in peso]\n",
    "print(\"{:<12} {:<12} {:<12} {:<12} {:<12} {:<12}\".format(\"N\",\"Terra\",\"Lua\",\"Jupiter\",\"Saturno\",\"Mercurio\"))\n",
    "print(\"---------------------------------------------------------------------------------\")\n",
    "for v in range(0,len(peso),1):\n",
    "    print(\"{:<12} {:<12} {:<12} {:<12} {:<12} {:<12}\".format(v,tr[v],la[v],jp[v],sat[v],mec[v]))"
   ]
  }
 ],
 "metadata": {
  "kernelspec": {
   "display_name": "Python 3",
   "language": "python",
   "name": "python3"
  },
  "language_info": {
   "codemirror_mode": {
    "name": "ipython",
    "version": 3
   },
   "file_extension": ".py",
   "mimetype": "text/x-python",
   "name": "python",
   "nbconvert_exporter": "python",
   "pygments_lexer": "ipython3",
   "version": "3.12.2"
  }
 },
 "nbformat": 4,
 "nbformat_minor": 2
}
