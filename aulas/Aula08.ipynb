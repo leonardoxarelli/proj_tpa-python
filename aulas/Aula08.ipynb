{
 "cells": [
  {
   "cell_type": "markdown",
   "metadata": {},
   "source": [
    "## Aula 08 - Introdução a Estrutura de Dados Fila (FIFO)"
   ]
  },
  {
   "cell_type": "code",
   "execution_count": 20,
   "metadata": {},
   "outputs": [],
   "source": [
    "class Fila:\n",
    "    def __init__(self):\n",
    "        self.fila =[]\n",
    "\n",
    "    def enfileirar(self, item):\n",
    "        self.fila.append(item)\n",
    "        print(f\"{item} chegou ao caixa\")\n",
    "\n",
    "    def vazio(self):\n",
    "        return len(self.fila) == 0\n",
    "\n",
    "    def desinfileirar(self):\n",
    "        if not self.vazio():\n",
    "            item = self.fila.pop(0)\n",
    "            print(f\"{item} Foi atendido no caixa\")\n",
    "            return item \n",
    "        else:\n",
    "            print(\"O caixa está livre\")\n",
    "            return None\n",
    "        \n",
    "    def tamanho(self):\n",
    "        if len(self.fila)==0:\n",
    "            print(\"O caixa está livre\")\n",
    "        else:\n",
    "            print(f\"Tem {len(self.fila)} pessoas na fila\")\n",
    "        "
   ]
  },
  {
   "cell_type": "markdown",
   "metadata": {},
   "source": [
    "## Atividade 01"
   ]
  },
  {
   "cell_type": "markdown",
   "metadata": {},
   "source": [
    "> Joãozinho está no mercado entre Vó Maria e Caique que chegou logo atrás para ir ao caixa. Tendo como a estrutura de dados. Adicione os três a fila nessa ordem e atenda Vó Maria, e depois mostre o tamanho dela."
   ]
  },
  {
   "cell_type": "code",
   "execution_count": 21,
   "metadata": {},
   "outputs": [
    {
     "name": "stdout",
     "output_type": "stream",
     "text": [
      "Vó Maria chegou ao caixa\n",
      "Caique chegou ao caixa\n",
      "Joãozinho chegou ao caixa\n",
      "Vó Maria Foi atendido no caixa\n",
      "Tem 2 pessoas na fila\n"
     ]
    }
   ],
   "source": [
    "fila = Fila()\n",
    "fila.enfileirar('Vó Maria')\n",
    "fila.enfileirar('Caique')\n",
    "fila.enfileirar('Joãozinho')\n",
    "fila.desinfileirar()\n",
    "fila.tamanho()"
   ]
  },
  {
   "cell_type": "code",
   "execution_count": 22,
   "metadata": {},
   "outputs": [
    {
     "name": "stdout",
     "output_type": "stream",
     "text": [
      "Caique Foi atendido no caixa\n",
      "Joãozinho Foi atendido no caixa\n",
      "O caixa está livre\n"
     ]
    }
   ],
   "source": [
    "fila.desinfileirar()\n",
    "fila.desinfileirar()\n",
    "fila.tamanho()"
   ]
  },
  {
   "cell_type": "markdown",
   "metadata": {},
   "source": [
    "## FIFO utilizando Collections deque"
   ]
  },
  {
   "cell_type": "code",
   "execution_count": 39,
   "metadata": {},
   "outputs": [],
   "source": [
    "from collections import deque\n",
    "\n",
    "class Farmacia:\n",
    "    def __init__(self):\n",
    "        self.farmacia = deque() \n",
    "    def aguardar(self,nome):\n",
    "        self.farmacia.append(nome)\n",
    "        print(f\"{nome} está na fila\")\n",
    "\n",
    "    def vazio(self):\n",
    "        return len(self.farmacia) == 0\n",
    "\n",
    "    def atender(self):\n",
    "        if not self.vazio():\n",
    "            nome = self.farmacia.popleft()\n",
    "            print(f\"{nome} foi atendido(a) \")\n",
    "            return nome \n",
    "        else:\n",
    "            print(\"O(A) atendente está livre\")\n",
    "            return None\n",
    "        \n",
    "    def tamanho(self):\n",
    "        if len(self.farmacia)==0:\n",
    "            print(\"O(A) atendente está livre\")\n",
    "        else:\n",
    "            print(f\"Tem {len(self.farmacia)} pessoas na fila\")\n",
    "    "
   ]
  },
  {
   "cell_type": "code",
   "execution_count": 45,
   "metadata": {},
   "outputs": [
    {
     "name": "stdout",
     "output_type": "stream",
     "text": [
      "Marco está na fila\n",
      "Maria está na fila\n",
      "Antonio está na fila\n",
      "Gustavo está na fila\n",
      "Vargas está na fila\n",
      "Marco foi atendido(a) \n",
      "Maria foi atendido(a) \n",
      "Antonio foi atendido(a) \n",
      "Gustavo foi atendido(a) \n",
      "Vargas foi atendido(a) \n",
      "O(A) atendente está livre\n"
     ]
    }
   ],
   "source": [
    "farmacia = Farmacia()\n",
    "farmacia.aguardar('Marco')\n",
    "farmacia.aguardar('Maria')\n",
    "farmacia.aguardar('Antonio')\n",
    "farmacia.aguardar('Gustavo')\n",
    "farmacia.aguardar('Vargas')\n",
    "farmacia.atender()\n",
    "farmacia.atender()\n",
    "farmacia.atender()\n",
    "farmacia.atender()\n",
    "farmacia.atender()\n",
    "farmacia.tamanho()"
   ]
  },
  {
   "cell_type": "markdown",
   "metadata": {},
   "source": [
    "## Atividade 02 - Atendimento da Farmacia"
   ]
  },
  {
   "cell_type": "markdown",
   "metadata": {},
   "source": [
    "> Ao abrir a farmacia pela manhã, a balconista recebe 5 pessoas. 3 Delas são atendidas e vão ao caixa. As demais estão aguardando para ser atendidas. Inclua o nome das 5 pessoas, atenda as 3 e depois mostre o tamanho da fila."
   ]
  },
  {
   "cell_type": "code",
   "execution_count": 46,
   "metadata": {},
   "outputs": [
    {
     "name": "stdout",
     "output_type": "stream",
     "text": [
      "Marco está na fila\n",
      "Maria está na fila\n",
      "Antonio está na fila\n",
      "Gustavo está na fila\n",
      "Vargas está na fila\n",
      "Marco foi atendido(a) \n",
      "Maria foi atendido(a) \n",
      "Antonio foi atendido(a) \n",
      "Tem 2 pessoas na fila\n"
     ]
    }
   ],
   "source": [
    "farmacia = Farmacia()\n",
    "farmacia.aguardar('Marco')\n",
    "farmacia.aguardar('Maria')\n",
    "farmacia.aguardar('Antonio')\n",
    "farmacia.aguardar('Gustavo')\n",
    "farmacia.aguardar('Vargas')\n",
    "farmacia.atender()\n",
    "farmacia.atender()\n",
    "farmacia.atender()\n",
    "farmacia.tamanho()"
   ]
  },
  {
   "cell_type": "markdown",
   "metadata": {},
   "source": [
    "## Pilha (LIFO)"
   ]
  },
  {
   "cell_type": "code",
   "execution_count": 54,
   "metadata": {},
   "outputs": [],
   "source": [
    "class Editor:\n",
    "    def __init__(self):\n",
    "        self.texto = \"\"\n",
    "        self.historico = []\n",
    "    def escrever(self, texto):\n",
    "        self.historico.append(self.texto)\n",
    "        self.texto += texto\n",
    "\n",
    "    def desfazer(self):\n",
    "        if self.historico:\n",
    "            self.texto = self.historico.pop()\n",
    "        else:\n",
    "            self.texto = \"\"\n",
    "    def visualizar(self):\n",
    "        print(self.texto)\n",
    "    "
   ]
  },
  {
   "cell_type": "markdown",
   "metadata": {},
   "source": [
    "## Atividade 03\n"
   ]
  },
  {
   "cell_type": "markdown",
   "metadata": {},
   "source": [
    "> Em um editor Yago escreve primeiro \"Olá\", depois \" mundo!\" e por ultimo \"por\" e \"Yago\"; Depois disso ele exibiu o texto editado. Logo após decidiu remover \"Por: Yago\". Faça um algarismo que realiza passo-a-passo de Yago."
   ]
  },
  {
   "cell_type": "code",
   "execution_count": 64,
   "metadata": {},
   "outputs": [
    {
     "name": "stdout",
     "output_type": "stream",
     "text": [
      "Ola mundo!\n"
     ]
    }
   ],
   "source": [
    "editor = Editor()\n",
    "editor.escrever('Ola')\n",
    "editor.escrever(' mundo!')\n",
    "editor.escrever(' por:')\n",
    "editor.escrever(' Yago')\n",
    "editor.desfazer()\n",
    "editor.desfazer()\n",
    "\n",
    "editor.visualizar()"
   ]
  }
 ],
 "metadata": {
  "kernelspec": {
   "display_name": "Python 3",
   "language": "python",
   "name": "python3"
  },
  "language_info": {
   "codemirror_mode": {
    "name": "ipython",
    "version": 3
   },
   "file_extension": ".py",
   "mimetype": "text/x-python",
   "name": "python",
   "nbconvert_exporter": "python",
   "pygments_lexer": "ipython3",
   "version": "3.12.2"
  }
 },
 "nbformat": 4,
 "nbformat_minor": 2
}
